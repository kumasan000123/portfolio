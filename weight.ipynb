{
 "cells": [
  {
   "cell_type": "code",
   "execution_count": 1,
   "metadata": {},
   "outputs": [],
   "source": [
    "import tkinter as tk\n",
    "import sqlite3\n",
    "import matplotlib.pyplot as plt\n",
    "from matplotlib.backends.backend_tkagg import FigureCanvasTkAgg\n",
    "import tkinter.ttk as ttk\n",
    "from tkinter import messagebox"
   ]
  },
  {
   "cell_type": "code",
   "execution_count": 2,
   "metadata": {},
   "outputs": [],
   "source": [
    "dbname=\"weight.db\"\n",
    "#sqlを使う関数\n",
    "def usesql(sqltext,param=()):\n",
    "    conn = sqlite3.connect(dbname)\n",
    "    cur = conn.cursor()\n",
    "    cur.execute(sqltext,param)\n",
    "    conn.commit()\n",
    "    conn.close()\n",
    "\n",
    "sqltext=\"\"\"CREATE TABLE IF NOT EXISTS personal (\n",
    "            name TEXT,\n",
    "            date TEXT, \n",
    "            weight REAL) \"\"\"\n",
    "usesql(sqltext)"
   ]
  },
  {
   "cell_type": "code",
   "execution_count": 3,
   "metadata": {},
   "outputs": [
    {
     "name": "stdout",
     "output_type": "stream",
     "text": [
      "[('kuma',), ('A',)]\n"
     ]
    }
   ],
   "source": [
    "\n",
    "#データをリストにして取得する場合\n",
    "def getsql(sqltext):\n",
    "    conn = sqlite3.connect(dbname)\n",
    "    cur = conn.cursor()\n",
    "    cur.execute(sqltext)\n",
    "    list=cur.fetchall()\n",
    "    conn.close()\n",
    "    return list\n",
    "    \n",
    "sqltext=\"\"\"select distinct name from personal \"\"\"\n",
    "nlist=getsql(sqltext)\n",
    "print(nlist)\n"
   ]
  },
  {
   "cell_type": "code",
   "execution_count": 4,
   "metadata": {},
   "outputs": [],
   "source": [
    "#addbtnの関数\n",
    "def adddb():\n",
    "    username,userweight=ncomb.get(),taijuentry.get()\n",
    "    #名前確認\n",
    "    if username==\"ユーザー選択\" or username==\"\":\n",
    "        woring=messagebox.showerror(\"nameerror\",\"名前を選択してください\")\n",
    "        return\n",
    "    #日付確認\n",
    "    if not (daycomb.get() and monthcomb.get()):\n",
    "        woring=messagebox.showerror(\"date\",\"月と日を半角数字で入力してください\")\n",
    "        return\n",
    "    else :\n",
    "        try:\n",
    "            _=int(monthcomb.get())\n",
    "            _=int(daycomb.get())\n",
    "        except ValueError:\n",
    "         woring=messagebox.showerror(\"dateerror\",\"月と日を半角数字で入力してください\")\n",
    "         return\n",
    "    #体重確認\n",
    "    if not userweight:\n",
    "        woring=messagebox.showerror(\"weighterror\",\"体重を半角数字で入力してください\")\n",
    "        return\n",
    "    else:\n",
    "        try:\n",
    "            userweight=float(userweight)\n",
    "        except ValueError:\n",
    "            woring=messagebox.showerror(\"weighterror\",\"体重を半角数字で入力してください\")\n",
    "            return\n",
    "    \n",
    "    #本処理\n",
    "    selectdate=yearentry.get()+\"-\"+monthcomb.get()+\"-\"+daycomb.get()\n",
    "    selectdate=\"{}-{:0>2}-{:0>2}\".format(int(yearentry.get()),int(monthcomb.get()),int(daycomb.get()))\n",
    "    sqltext=\"INSERT INTO personal (name,date, weight) VALUES (?, ?, ?)\"\n",
    "    addparam=(username,selectdate, float(userweight))\n",
    "    usesql(sqltext,addparam)"
   ]
  },
  {
   "cell_type": "code",
   "execution_count": 5,
   "metadata": {},
   "outputs": [],
   "source": [
    "#graphbtnの関数（別ウィンドウでグラフ作る）\n",
    "def makegraph():\n",
    "    #グラフ用のデータの整理\n",
    "    username=ncomb.get()\n",
    "    #名前確認\n",
    "    if username==\"ユーザー選択\" or username==\"\":\n",
    "        woring=messagebox.showerror(\"nameerror\",\"名前を選択してください\")\n",
    "        return\n",
    "    sqltext=\"\"\"select * from personal  where name='{}' order by date\"\"\".format(username)\n",
    "    data=getsql(sqltext)\n",
    "    name_dict={}\n",
    "    for list in data:\n",
    "        namedata=list[0]\n",
    "        datedata=list[1]\n",
    "        weightdata=list[2]\n",
    "        if namedata not in name_dict:\n",
    "            name_dict[namedata]={\"date\":[],\"weight\":[]}\n",
    "        name_dict[namedata][\"date\"].append(datedata)\n",
    "        name_dict[namedata][\"weight\"].append(weightdata)\n",
    "\n",
    "    #グラフの作成\n",
    "    fig,ax=plt.subplots()\n",
    "    for name,value in name_dict.items():\n",
    "        ax.plot(value[\"date\"],value[\"weight\"],label=name)\n",
    "    ax.set_xlabel(\"date\")\n",
    "    ax.set_ylabel(\"weight(kg)\")\n",
    "    ax.set_title(\"weight-change\")\n",
    "    ax.legend()\n",
    "    plt.xticks(rotation=45) \n",
    "    plt.tight_layout()  \n",
    "    #新しいウィンドウを作る\n",
    "    new_window=tk.Toplevel(root)\n",
    "    new_window.title(\"weight-change\")\n",
    "    \n",
    "    canvas=FigureCanvasTkAgg(fig,master=new_window)\n",
    "    canvas.draw()\n",
    "    canvas.get_tk_widget().pack()\n"
   ]
  },
  {
   "cell_type": "code",
   "execution_count": 6,
   "metadata": {},
   "outputs": [],
   "source": [
    "root=tk.Tk()\n",
    "root.geometry(\"200x130+600+300\")\n",
    "#１行目：名前(row=0)\n",
    "ncomb=ttk.Combobox(root,value=nlist)\n",
    "ncomb.set(\"ユーザー選択\")\n",
    "ncomb.grid(column=0,row=0)\n",
    "#2行目：日付(row=1)\n",
    "dateframe=tk.Frame(root);dateframe.grid(column=0,row=1)\n",
    "yearentry=tk.Entry(dateframe,width=6);yearentry.grid(column=0,row=0)\n",
    "nenlabel=tk.Label(dateframe,text=\"年\",bg=\"white\")\n",
    "yearentry.insert(0,\"2024\");nenlabel.grid(column=1,row=0)\n",
    "monthlist=list(range(1,13))\n",
    "monthcomb=ttk.Combobox(dateframe,value=monthlist,width=4);monthcomb.grid(column=2,row=0)\n",
    "gatsulabel=tk.Label(dateframe,text=\"月\");gatsulabel.grid(column=3,row=0)\n",
    "daylist=list(range(1,32))\n",
    "daycomb=ttk.Combobox(dateframe,value=daylist,width=4);daycomb.grid(column=4,row=0)\n",
    "nichilabel=tk.Label(dateframe,text=\"日\");nichilabel.grid(column=5,row=0)\n",
    "#3行目：体重(row=2)\n",
    "weightframe=tk.Frame(root);weightframe.grid(column=0,row=2)\n",
    "taijulabel=tk.Label(weightframe,text=\"体重\");taijulabel.grid(column=0,row=0)\n",
    "taijuentry=tk.Entry(weightframe,width=3);taijuentry.grid(column=1,row=0)\n",
    "kglabel=tk.Label(weightframe,text=\"kg\");kglabel.grid(column=2,row=0)\n",
    "#4行目：ボタン(row=3)\n",
    "addbtn=tk.Button(root,text=\"記録\",command=adddb);addbtn.grid(column=0,row=3)\n",
    "#5行目：グラフボタン(row=4)\n",
    "graphbtn=tk.Button(root,text=\"グラフを見る\",command=makegraph);graphbtn.grid(column=0,row=4)"
   ]
  },
  {
   "cell_type": "code",
   "execution_count": 7,
   "metadata": {},
   "outputs": [],
   "source": [
    "root.mainloop()"
   ]
  }
 ],
 "metadata": {
  "kernelspec": {
   "display_name": "base",
   "language": "python",
   "name": "python3"
  },
  "language_info": {
   "codemirror_mode": {
    "name": "ipython",
    "version": 3
   },
   "file_extension": ".py",
   "mimetype": "text/x-python",
   "name": "python",
   "nbconvert_exporter": "python",
   "pygments_lexer": "ipython3",
   "version": "3.12.4"
  }
 },
 "nbformat": 4,
 "nbformat_minor": 2
}
